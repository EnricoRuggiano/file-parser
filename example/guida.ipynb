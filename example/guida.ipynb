{
 "cells": [
  {
   "cell_type": "markdown",
   "metadata": {},
   "source": [
    "## Esempio 1: Conversione"
   ]
  },
  {
   "cell_type": "markdown",
   "metadata": {},
   "source": [
    "xlsx -> csv"
   ]
  },
  {
   "cell_type": "code",
   "execution_count": 8,
   "metadata": {},
   "outputs": [
    {
     "name": "stdout",
     "output_type": "stream",
     "text": [
      "Warning: input file not utf-8. Using bytes\n"
     ]
    },
    {
     "data": {
      "text/plain": [
       "'test.csv'"
      ]
     },
     "execution_count": 8,
     "metadata": {},
     "output_type": "execute_result"
    }
   ],
   "source": [
    "from file_parser import FileParser\n",
    "fp = FileParser()\n",
    "fp.read('sample.xlsx')\n",
    "fp.parse('xlsx')\n",
    "fp.write('csv', 'test.csv')"
   ]
  },
  {
   "cell_type": "markdown",
   "metadata": {},
   "source": [
    "xml -> json"
   ]
  },
  {
   "cell_type": "code",
   "execution_count": 10,
   "metadata": {},
   "outputs": [
    {
     "name": "stdout",
     "output_type": "stream",
     "text": [
      " Warning: .xml files may exploit vulnerabilities in the xml parsers to perform some malicious attack. \n",
      "    Please be aware that your input '.xml' file comes from a trusted source.\n"
     ]
    },
    {
     "data": {
      "text/plain": [
       "'test.json'"
      ]
     },
     "execution_count": 10,
     "metadata": {},
     "output_type": "execute_result"
    }
   ],
   "source": [
    "from file_parser import FileParser\n",
    "fp = FileParser()\n",
    "fp.read('sample.xml')\n",
    "fp.parse('xml')\n",
    "fp.write('json', 'test.json')"
   ]
  },
  {
   "cell_type": "markdown",
   "metadata": {},
   "source": [
    "## Esempio 2: Parsing"
   ]
  },
  {
   "cell_type": "code",
   "execution_count": 15,
   "metadata": {},
   "outputs": [
    {
     "data": {
      "text/plain": [
       "True"
      ]
     },
     "execution_count": 15,
     "metadata": {},
     "output_type": "execute_result"
    }
   ],
   "source": [
    "from file_parser import FileParser\n",
    "\n",
    "_json:str = \"\"\"{\"EmployerData\": [{\"firstName\": \"Rachel\", \"lastName\": \"Booker\", \"userName\": \"booker12\"}, {\"firstName\": \"Laura\", \"lastName\": \"Grey\", \"userName\": \"grey07\"}, {\"firstName\": \"Craig\", \"lastName\": \"Johnson\", \"userName\": \"johnson81\"}, {\"firstName\": \"Mary\", \"lastName\": \"Jenkins\", \"userName\": \"jenkins46\"}]}\"\"\"\n",
    "\n",
    "fp = FileParser()\n",
    "setattr(fp, 'raw_content', _json)\n",
    "parsed_json = fp.parse('json')\n",
    "\n",
    "isinstance(parsed_json, dict)\n"
   ]
  },
  {
   "cell_type": "markdown",
   "metadata": {},
   "source": [
    "## Esempio 3: Data Cleaning / Processing"
   ]
  },
  {
   "cell_type": "code",
   "execution_count": 18,
   "metadata": {},
   "outputs": [
    {
     "name": "stdout",
     "output_type": "stream",
     "text": [
      "Warning: input file not utf-8. Using bytes\n"
     ]
    },
    {
     "data": {
      "text/plain": [
       "'test.csv'"
      ]
     },
     "execution_count": 18,
     "metadata": {},
     "output_type": "execute_result"
    }
   ],
   "source": [
    "from file_parser import FileParser\n",
    "from typing import Dict, List\n",
    "from copy import deepcopy\n",
    "\n",
    "fp = FileParser()\n",
    "fp.read('sample.xlsx')\n",
    "rows:List[Dict] = fp.parse('xlsx')\n",
    "\n",
    "# add column\n",
    "i:int = 0\n",
    "for row in rows:\n",
    "    row['Extra Column'] = i\n",
    "    i += 1\n",
    "\n",
    "# rename columns\n",
    "_rows = deepcopy(rows)\n",
    "rows  = []\n",
    "for _row in _rows:\n",
    "    d = {}\n",
    "    for k,v in _row.items():\n",
    "        d[k.lower().strip()] = v\n",
    "    rows.append(d)\n",
    "del _rows\n",
    "\n",
    "# save in a new file\n",
    "_headers = list(rows[0].keys())\n",
    "\n",
    "fp.write('csv', output_path='test.csv', content=rows, delimiter=';', headers=_headers)\n",
    "\n"
   ]
  },
  {
   "cell_type": "code",
   "execution_count": null,
   "metadata": {},
   "outputs": [],
   "source": []
  }
 ],
 "metadata": {
  "kernelspec": {
   "display_name": "Python 3.8.0 64-bit",
   "language": "python",
   "name": "python3"
  },
  "language_info": {
   "codemirror_mode": {
    "name": "ipython",
    "version": 3
   },
   "file_extension": ".py",
   "mimetype": "text/x-python",
   "name": "python",
   "nbconvert_exporter": "python",
   "pygments_lexer": "ipython3",
   "version": "3.8.0"
  },
  "orig_nbformat": 4,
  "vscode": {
   "interpreter": {
    "hash": "df0893f56f349688326838aaeea0de204df53a132722cbd565e54b24a8fec5f6"
   }
  }
 },
 "nbformat": 4,
 "nbformat_minor": 2
}
